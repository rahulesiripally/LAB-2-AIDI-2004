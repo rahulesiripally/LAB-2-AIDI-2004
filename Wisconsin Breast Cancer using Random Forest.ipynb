{
 "cells": [
  {
   "cell_type": "code",
   "execution_count": 1,
   "id": "bdf926fe",
   "metadata": {
    "ExecuteTime": {
     "end_time": "2022-10-10T19:46:43.573496Z",
     "start_time": "2022-10-10T19:46:42.502770Z"
    },
    "execution": {
     "iopub.execute_input": "2023-02-17T11:46:24.377587Z",
     "iopub.status.busy": "2023-02-17T11:46:24.376966Z",
     "iopub.status.idle": "2023-02-17T11:46:25.693928Z",
     "shell.execute_reply": "2023-02-17T11:46:25.692879Z"
    },
    "papermill": {
     "duration": 1.333466,
     "end_time": "2023-02-17T11:46:25.696706",
     "exception": false,
     "start_time": "2023-02-17T11:46:24.363240",
     "status": "completed"
    },
    "tags": []
   },
   "outputs": [],
   "source": [
    "import pandas as pd\n",
    "import numpy as np\n",
    "import matplotlib.pyplot as plt\n",
    "import seaborn as sns\n",
    "import warnings"
   ]
  },
  {
   "cell_type": "code",
   "execution_count": 2,
   "id": "c298f01a",
   "metadata": {
    "execution": {
     "iopub.execute_input": "2023-02-17T11:46:25.719165Z",
     "iopub.status.busy": "2023-02-17T11:46:25.718741Z",
     "iopub.status.idle": "2023-02-17T11:46:25.734774Z",
     "shell.execute_reply": "2023-02-17T11:46:25.733601Z"
    },
    "papermill": {
     "duration": 0.030027,
     "end_time": "2023-02-17T11:46:25.737293",
     "exception": false,
     "start_time": "2023-02-17T11:46:25.707266",
     "status": "completed"
    },
    "tags": []
   },
   "outputs": [],
   "source": [
    "import numpy as np\n",
    "import pandas as pd \n"
   ]
  },
  {
   "cell_type": "markdown",
   "id": "35421f35",
   "metadata": {},
   "source": [
    "# Exploratory Data Analysis"
   ]
  },
  {
   "cell_type": "code",
   "execution_count": 3,
   "id": "a2b77a7f",
   "metadata": {
    "ExecuteTime": {
     "end_time": "2022-10-10T19:46:43.577451Z",
     "start_time": "2022-10-10T19:46:43.574460Z"
    },
    "execution": {
     "iopub.execute_input": "2023-02-17T11:46:25.781148Z",
     "iopub.status.busy": "2023-02-17T11:46:25.780721Z",
     "iopub.status.idle": "2023-02-17T11:46:25.786344Z",
     "shell.execute_reply": "2023-02-17T11:46:25.785611Z"
    },
    "papermill": {
     "duration": 0.018986,
     "end_time": "2023-02-17T11:46:25.788298",
     "exception": false,
     "start_time": "2023-02-17T11:46:25.769312",
     "status": "completed"
    },
    "tags": []
   },
   "outputs": [],
   "source": [
    "warnings.filterwarnings('ignore')"
   ]
  },
  {
   "cell_type": "code",
   "execution_count": 4,
   "id": "64b9b5dc",
   "metadata": {
    "ExecuteTime": {
     "end_time": "2022-10-10T19:46:43.590416Z",
     "start_time": "2022-10-10T19:46:43.577451Z"
    },
    "execution": {
     "iopub.execute_input": "2023-02-17T11:46:25.812043Z",
     "iopub.status.busy": "2023-02-17T11:46:25.811463Z",
     "iopub.status.idle": "2023-02-17T11:46:25.837785Z",
     "shell.execute_reply": "2023-02-17T11:46:25.836287Z"
    },
    "papermill": {
     "duration": 0.04133,
     "end_time": "2023-02-17T11:46:25.840504",
     "exception": false,
     "start_time": "2023-02-17T11:46:25.799174",
     "status": "completed"
    },
    "tags": []
   },
   "outputs": [],
   "source": [
    "data = pd.read_csv('dataset.csv')"
   ]
  },
  {
   "cell_type": "code",
   "execution_count": 5,
   "id": "6ce046b9",
   "metadata": {
    "ExecuteTime": {
     "end_time": "2022-10-10T19:46:43.597399Z",
     "start_time": "2022-10-10T19:46:43.591413Z"
    },
    "execution": {
     "iopub.execute_input": "2023-02-17T11:46:25.863896Z",
     "iopub.status.busy": "2023-02-17T11:46:25.863255Z",
     "iopub.status.idle": "2023-02-17T11:46:25.870536Z",
     "shell.execute_reply": "2023-02-17T11:46:25.869755Z"
    },
    "papermill": {
     "duration": 0.02092,
     "end_time": "2023-02-17T11:46:25.872235",
     "exception": false,
     "start_time": "2023-02-17T11:46:25.851315",
     "status": "completed"
    },
    "tags": []
   },
   "outputs": [
    {
     "data": {
      "text/plain": [
       "(569, 32)"
      ]
     },
     "execution_count": 5,
     "metadata": {},
     "output_type": "execute_result"
    }
   ],
   "source": [
    "data.shape"
   ]
  },
  {
   "cell_type": "code",
   "execution_count": 6,
   "id": "092c5633",
   "metadata": {
    "ExecuteTime": {
     "end_time": "2022-10-10T19:46:43.623329Z",
     "start_time": "2022-10-10T19:46:43.598397Z"
    },
    "execution": {
     "iopub.execute_input": "2023-02-17T11:46:25.895265Z",
     "iopub.status.busy": "2023-02-17T11:46:25.894543Z",
     "iopub.status.idle": "2023-02-17T11:46:25.936516Z",
     "shell.execute_reply": "2023-02-17T11:46:25.934871Z"
    },
    "papermill": {
     "duration": 0.057173,
     "end_time": "2023-02-17T11:46:25.939665",
     "exception": false,
     "start_time": "2023-02-17T11:46:25.882492",
     "status": "completed"
    },
    "tags": []
   },
   "outputs": [
    {
     "data": {
      "text/html": [
       "<div>\n",
       "<style scoped>\n",
       "    .dataframe tbody tr th:only-of-type {\n",
       "        vertical-align: middle;\n",
       "    }\n",
       "\n",
       "    .dataframe tbody tr th {\n",
       "        vertical-align: top;\n",
       "    }\n",
       "\n",
       "    .dataframe thead th {\n",
       "        text-align: right;\n",
       "    }\n",
       "</style>\n",
       "<table border=\"1\" class=\"dataframe\">\n",
       "  <thead>\n",
       "    <tr style=\"text-align: right;\">\n",
       "      <th></th>\n",
       "      <th>id</th>\n",
       "      <th>diagnosis</th>\n",
       "      <th>radius_mean</th>\n",
       "      <th>texture_mean</th>\n",
       "      <th>perimeter_mean</th>\n",
       "      <th>area_mean</th>\n",
       "      <th>smoothness_mean</th>\n",
       "      <th>compactness_mean</th>\n",
       "      <th>concavity_mean</th>\n",
       "      <th>points_mean</th>\n",
       "      <th>...</th>\n",
       "      <th>radius_worst</th>\n",
       "      <th>texture_worst</th>\n",
       "      <th>perimeter_worst</th>\n",
       "      <th>area_worst</th>\n",
       "      <th>smoothness_worst</th>\n",
       "      <th>compactness_worst</th>\n",
       "      <th>concavity_worst</th>\n",
       "      <th>points_worst</th>\n",
       "      <th>symmetry_worst</th>\n",
       "      <th>dimension_worst</th>\n",
       "    </tr>\n",
       "  </thead>\n",
       "  <tbody>\n",
       "    <tr>\n",
       "      <th>0</th>\n",
       "      <td>87139402</td>\n",
       "      <td>B</td>\n",
       "      <td>12.32</td>\n",
       "      <td>12.39</td>\n",
       "      <td>78.85</td>\n",
       "      <td>464.1</td>\n",
       "      <td>0.10280</td>\n",
       "      <td>0.06981</td>\n",
       "      <td>0.03987</td>\n",
       "      <td>0.03700</td>\n",
       "      <td>...</td>\n",
       "      <td>13.50</td>\n",
       "      <td>15.64</td>\n",
       "      <td>86.97</td>\n",
       "      <td>549.1</td>\n",
       "      <td>0.1385</td>\n",
       "      <td>0.1266</td>\n",
       "      <td>0.12420</td>\n",
       "      <td>0.09391</td>\n",
       "      <td>0.2827</td>\n",
       "      <td>0.06771</td>\n",
       "    </tr>\n",
       "    <tr>\n",
       "      <th>1</th>\n",
       "      <td>8910251</td>\n",
       "      <td>B</td>\n",
       "      <td>10.60</td>\n",
       "      <td>18.95</td>\n",
       "      <td>69.28</td>\n",
       "      <td>346.4</td>\n",
       "      <td>0.09688</td>\n",
       "      <td>0.11470</td>\n",
       "      <td>0.06387</td>\n",
       "      <td>0.02642</td>\n",
       "      <td>...</td>\n",
       "      <td>11.88</td>\n",
       "      <td>22.94</td>\n",
       "      <td>78.28</td>\n",
       "      <td>424.8</td>\n",
       "      <td>0.1213</td>\n",
       "      <td>0.2515</td>\n",
       "      <td>0.19160</td>\n",
       "      <td>0.07926</td>\n",
       "      <td>0.2940</td>\n",
       "      <td>0.07587</td>\n",
       "    </tr>\n",
       "    <tr>\n",
       "      <th>2</th>\n",
       "      <td>905520</td>\n",
       "      <td>B</td>\n",
       "      <td>11.04</td>\n",
       "      <td>16.83</td>\n",
       "      <td>70.92</td>\n",
       "      <td>373.2</td>\n",
       "      <td>0.10770</td>\n",
       "      <td>0.07804</td>\n",
       "      <td>0.03046</td>\n",
       "      <td>0.02480</td>\n",
       "      <td>...</td>\n",
       "      <td>12.41</td>\n",
       "      <td>26.44</td>\n",
       "      <td>79.93</td>\n",
       "      <td>471.4</td>\n",
       "      <td>0.1369</td>\n",
       "      <td>0.1482</td>\n",
       "      <td>0.10670</td>\n",
       "      <td>0.07431</td>\n",
       "      <td>0.2998</td>\n",
       "      <td>0.07881</td>\n",
       "    </tr>\n",
       "    <tr>\n",
       "      <th>3</th>\n",
       "      <td>868871</td>\n",
       "      <td>B</td>\n",
       "      <td>11.28</td>\n",
       "      <td>13.39</td>\n",
       "      <td>73.00</td>\n",
       "      <td>384.8</td>\n",
       "      <td>0.11640</td>\n",
       "      <td>0.11360</td>\n",
       "      <td>0.04635</td>\n",
       "      <td>0.04796</td>\n",
       "      <td>...</td>\n",
       "      <td>11.92</td>\n",
       "      <td>15.77</td>\n",
       "      <td>76.53</td>\n",
       "      <td>434.0</td>\n",
       "      <td>0.1367</td>\n",
       "      <td>0.1822</td>\n",
       "      <td>0.08669</td>\n",
       "      <td>0.08611</td>\n",
       "      <td>0.2102</td>\n",
       "      <td>0.06784</td>\n",
       "    </tr>\n",
       "    <tr>\n",
       "      <th>4</th>\n",
       "      <td>9012568</td>\n",
       "      <td>B</td>\n",
       "      <td>15.19</td>\n",
       "      <td>13.21</td>\n",
       "      <td>97.65</td>\n",
       "      <td>711.8</td>\n",
       "      <td>0.07963</td>\n",
       "      <td>0.06934</td>\n",
       "      <td>0.03393</td>\n",
       "      <td>0.02657</td>\n",
       "      <td>...</td>\n",
       "      <td>16.20</td>\n",
       "      <td>15.73</td>\n",
       "      <td>104.50</td>\n",
       "      <td>819.1</td>\n",
       "      <td>0.1126</td>\n",
       "      <td>0.1737</td>\n",
       "      <td>0.13620</td>\n",
       "      <td>0.08178</td>\n",
       "      <td>0.2487</td>\n",
       "      <td>0.06766</td>\n",
       "    </tr>\n",
       "  </tbody>\n",
       "</table>\n",
       "<p>5 rows × 32 columns</p>\n",
       "</div>"
      ],
      "text/plain": [
       "         id diagnosis  radius_mean  texture_mean  perimeter_mean  area_mean  \\\n",
       "0  87139402         B        12.32         12.39           78.85      464.1   \n",
       "1   8910251         B        10.60         18.95           69.28      346.4   \n",
       "2    905520         B        11.04         16.83           70.92      373.2   \n",
       "3    868871         B        11.28         13.39           73.00      384.8   \n",
       "4   9012568         B        15.19         13.21           97.65      711.8   \n",
       "\n",
       "   smoothness_mean  compactness_mean  concavity_mean  points_mean  ...  \\\n",
       "0          0.10280           0.06981         0.03987      0.03700  ...   \n",
       "1          0.09688           0.11470         0.06387      0.02642  ...   \n",
       "2          0.10770           0.07804         0.03046      0.02480  ...   \n",
       "3          0.11640           0.11360         0.04635      0.04796  ...   \n",
       "4          0.07963           0.06934         0.03393      0.02657  ...   \n",
       "\n",
       "   radius_worst  texture_worst  perimeter_worst  area_worst  smoothness_worst  \\\n",
       "0         13.50          15.64            86.97       549.1            0.1385   \n",
       "1         11.88          22.94            78.28       424.8            0.1213   \n",
       "2         12.41          26.44            79.93       471.4            0.1369   \n",
       "3         11.92          15.77            76.53       434.0            0.1367   \n",
       "4         16.20          15.73           104.50       819.1            0.1126   \n",
       "\n",
       "   compactness_worst  concavity_worst  points_worst  symmetry_worst  \\\n",
       "0             0.1266          0.12420       0.09391          0.2827   \n",
       "1             0.2515          0.19160       0.07926          0.2940   \n",
       "2             0.1482          0.10670       0.07431          0.2998   \n",
       "3             0.1822          0.08669       0.08611          0.2102   \n",
       "4             0.1737          0.13620       0.08178          0.2487   \n",
       "\n",
       "   dimension_worst  \n",
       "0          0.06771  \n",
       "1          0.07587  \n",
       "2          0.07881  \n",
       "3          0.06784  \n",
       "4          0.06766  \n",
       "\n",
       "[5 rows x 32 columns]"
      ]
     },
     "execution_count": 6,
     "metadata": {},
     "output_type": "execute_result"
    }
   ],
   "source": [
    "data.head()"
   ]
  },
  {
   "cell_type": "code",
   "execution_count": 7,
   "id": "bc3ea725",
   "metadata": {
    "ExecuteTime": {
     "end_time": "2022-10-10T19:46:43.630310Z",
     "start_time": "2022-10-10T19:46:43.624326Z"
    },
    "execution": {
     "iopub.execute_input": "2023-02-17T11:46:26.008109Z",
     "iopub.status.busy": "2023-02-17T11:46:26.007130Z",
     "iopub.status.idle": "2023-02-17T11:46:26.017601Z",
     "shell.execute_reply": "2023-02-17T11:46:26.016539Z"
    },
    "papermill": {
     "duration": 0.025159,
     "end_time": "2023-02-17T11:46:26.019777",
     "exception": false,
     "start_time": "2023-02-17T11:46:25.994618",
     "status": "completed"
    },
    "tags": []
   },
   "outputs": [
    {
     "data": {
      "text/plain": [
       "id                   0\n",
       "diagnosis            0\n",
       "radius_mean          0\n",
       "texture_mean         0\n",
       "perimeter_mean       0\n",
       "area_mean            0\n",
       "smoothness_mean      0\n",
       "compactness_mean     0\n",
       "concavity_mean       0\n",
       "points_mean          0\n",
       "symmetry_mean        0\n",
       "dimension_mean       0\n",
       "radius_se            0\n",
       "texture_se           0\n",
       "perimeter_se         0\n",
       "area_se              0\n",
       "smoothness_se        0\n",
       "compactness_se       0\n",
       "concavity_se         0\n",
       "points_se            0\n",
       "symmetry_se          0\n",
       "dimension_se         0\n",
       "radius_worst         0\n",
       "texture_worst        0\n",
       "perimeter_worst      0\n",
       "area_worst           0\n",
       "smoothness_worst     0\n",
       "compactness_worst    0\n",
       "concavity_worst      0\n",
       "points_worst         0\n",
       "symmetry_worst       0\n",
       "dimension_worst      0\n",
       "dtype: int64"
      ]
     },
     "execution_count": 7,
     "metadata": {},
     "output_type": "execute_result"
    }
   ],
   "source": [
    "data.isna().sum()"
   ]
  },
  {
   "cell_type": "code",
   "execution_count": 8,
   "id": "a371d173",
   "metadata": {
    "ExecuteTime": {
     "end_time": "2022-10-10T19:46:43.639287Z",
     "start_time": "2022-10-10T19:46:43.631308Z"
    },
    "execution": {
     "iopub.execute_input": "2023-02-17T11:46:26.043561Z",
     "iopub.status.busy": "2023-02-17T11:46:26.043098Z",
     "iopub.status.idle": "2023-02-17T11:46:26.050459Z",
     "shell.execute_reply": "2023-02-17T11:46:26.049563Z"
    },
    "papermill": {
     "duration": 0.02157,
     "end_time": "2023-02-17T11:46:26.052315",
     "exception": false,
     "start_time": "2023-02-17T11:46:26.030745",
     "status": "completed"
    },
    "tags": []
   },
   "outputs": [
    {
     "data": {
      "text/plain": [
       "Index(['id', 'diagnosis', 'radius_mean', 'texture_mean', 'perimeter_mean',\n",
       "       'area_mean', 'smoothness_mean', 'compactness_mean', 'concavity_mean',\n",
       "       'points_mean', 'symmetry_mean', 'dimension_mean', 'radius_se',\n",
       "       'texture_se', 'perimeter_se', 'area_se', 'smoothness_se',\n",
       "       'compactness_se', 'concavity_se', 'points_se', 'symmetry_se',\n",
       "       'dimension_se', 'radius_worst', 'texture_worst', 'perimeter_worst',\n",
       "       'area_worst', 'smoothness_worst', 'compactness_worst',\n",
       "       'concavity_worst', 'points_worst', 'symmetry_worst', 'dimension_worst'],\n",
       "      dtype='object')"
      ]
     },
     "execution_count": 8,
     "metadata": {},
     "output_type": "execute_result"
    }
   ],
   "source": [
    "data.columns"
   ]
  },
  {
   "cell_type": "code",
   "execution_count": 9,
   "id": "ffd6552c",
   "metadata": {
    "ExecuteTime": {
     "end_time": "2022-10-10T19:46:43.655243Z",
     "start_time": "2022-10-10T19:46:43.640284Z"
    },
    "execution": {
     "iopub.execute_input": "2023-02-17T11:46:26.076258Z",
     "iopub.status.busy": "2023-02-17T11:46:26.075805Z",
     "iopub.status.idle": "2023-02-17T11:46:26.105298Z",
     "shell.execute_reply": "2023-02-17T11:46:26.103452Z"
    },
    "papermill": {
     "duration": 0.044511,
     "end_time": "2023-02-17T11:46:26.107909",
     "exception": false,
     "start_time": "2023-02-17T11:46:26.063398",
     "status": "completed"
    },
    "tags": []
   },
   "outputs": [
    {
     "name": "stdout",
     "output_type": "stream",
     "text": [
      "<class 'pandas.core.frame.DataFrame'>\n",
      "RangeIndex: 569 entries, 0 to 568\n",
      "Data columns (total 32 columns):\n",
      " #   Column             Non-Null Count  Dtype  \n",
      "---  ------             --------------  -----  \n",
      " 0   id                 569 non-null    int64  \n",
      " 1   diagnosis          569 non-null    object \n",
      " 2   radius_mean        569 non-null    float64\n",
      " 3   texture_mean       569 non-null    float64\n",
      " 4   perimeter_mean     569 non-null    float64\n",
      " 5   area_mean          569 non-null    float64\n",
      " 6   smoothness_mean    569 non-null    float64\n",
      " 7   compactness_mean   569 non-null    float64\n",
      " 8   concavity_mean     569 non-null    float64\n",
      " 9   points_mean        569 non-null    float64\n",
      " 10  symmetry_mean      569 non-null    float64\n",
      " 11  dimension_mean     569 non-null    float64\n",
      " 12  radius_se          569 non-null    float64\n",
      " 13  texture_se         569 non-null    float64\n",
      " 14  perimeter_se       569 non-null    float64\n",
      " 15  area_se            569 non-null    float64\n",
      " 16  smoothness_se      569 non-null    float64\n",
      " 17  compactness_se     569 non-null    float64\n",
      " 18  concavity_se       569 non-null    float64\n",
      " 19  points_se          569 non-null    float64\n",
      " 20  symmetry_se        569 non-null    float64\n",
      " 21  dimension_se       569 non-null    float64\n",
      " 22  radius_worst       569 non-null    float64\n",
      " 23  texture_worst      569 non-null    float64\n",
      " 24  perimeter_worst    569 non-null    float64\n",
      " 25  area_worst         569 non-null    float64\n",
      " 26  smoothness_worst   569 non-null    float64\n",
      " 27  compactness_worst  569 non-null    float64\n",
      " 28  concavity_worst    569 non-null    float64\n",
      " 29  points_worst       569 non-null    float64\n",
      " 30  symmetry_worst     569 non-null    float64\n",
      " 31  dimension_worst    569 non-null    float64\n",
      "dtypes: float64(30), int64(1), object(1)\n",
      "memory usage: 142.4+ KB\n"
     ]
    }
   ],
   "source": [
    "data.info()"
   ]
  },
  {
   "cell_type": "code",
   "execution_count": 10,
   "id": "cf8b8a12",
   "metadata": {
    "ExecuteTime": {
     "end_time": "2022-10-10T19:46:43.709131Z",
     "start_time": "2022-10-10T19:46:43.656241Z"
    },
    "execution": {
     "iopub.execute_input": "2023-02-17T11:46:26.132816Z",
     "iopub.status.busy": "2023-02-17T11:46:26.132048Z",
     "iopub.status.idle": "2023-02-17T11:46:26.206844Z",
     "shell.execute_reply": "2023-02-17T11:46:26.205395Z"
    },
    "papermill": {
     "duration": 0.089596,
     "end_time": "2023-02-17T11:46:26.208773",
     "exception": false,
     "start_time": "2023-02-17T11:46:26.119177",
     "status": "completed"
    },
    "tags": []
   },
   "outputs": [
    {
     "data": {
      "text/html": [
       "<div>\n",
       "<style scoped>\n",
       "    .dataframe tbody tr th:only-of-type {\n",
       "        vertical-align: middle;\n",
       "    }\n",
       "\n",
       "    .dataframe tbody tr th {\n",
       "        vertical-align: top;\n",
       "    }\n",
       "\n",
       "    .dataframe thead th {\n",
       "        text-align: right;\n",
       "    }\n",
       "</style>\n",
       "<table border=\"1\" class=\"dataframe\">\n",
       "  <thead>\n",
       "    <tr style=\"text-align: right;\">\n",
       "      <th></th>\n",
       "      <th>count</th>\n",
       "      <th>mean</th>\n",
       "      <th>std</th>\n",
       "      <th>min</th>\n",
       "      <th>25%</th>\n",
       "      <th>50%</th>\n",
       "      <th>75%</th>\n",
       "      <th>max</th>\n",
       "    </tr>\n",
       "  </thead>\n",
       "  <tbody>\n",
       "    <tr>\n",
       "      <th>id</th>\n",
       "      <td>569.0</td>\n",
       "      <td>3.037183e+07</td>\n",
       "      <td>1.250206e+08</td>\n",
       "      <td>8670.000000</td>\n",
       "      <td>869218.000000</td>\n",
       "      <td>906024.000000</td>\n",
       "      <td>8.813129e+06</td>\n",
       "      <td>9.113205e+08</td>\n",
       "    </tr>\n",
       "    <tr>\n",
       "      <th>radius_mean</th>\n",
       "      <td>569.0</td>\n",
       "      <td>1.412729e+01</td>\n",
       "      <td>3.524049e+00</td>\n",
       "      <td>6.981000</td>\n",
       "      <td>11.700000</td>\n",
       "      <td>13.370000</td>\n",
       "      <td>1.578000e+01</td>\n",
       "      <td>2.811000e+01</td>\n",
       "    </tr>\n",
       "    <tr>\n",
       "      <th>texture_mean</th>\n",
       "      <td>569.0</td>\n",
       "      <td>1.928965e+01</td>\n",
       "      <td>4.301036e+00</td>\n",
       "      <td>9.710000</td>\n",
       "      <td>16.170000</td>\n",
       "      <td>18.840000</td>\n",
       "      <td>2.180000e+01</td>\n",
       "      <td>3.928000e+01</td>\n",
       "    </tr>\n",
       "    <tr>\n",
       "      <th>perimeter_mean</th>\n",
       "      <td>569.0</td>\n",
       "      <td>9.196903e+01</td>\n",
       "      <td>2.429898e+01</td>\n",
       "      <td>43.790000</td>\n",
       "      <td>75.170000</td>\n",
       "      <td>86.240000</td>\n",
       "      <td>1.041000e+02</td>\n",
       "      <td>1.885000e+02</td>\n",
       "    </tr>\n",
       "    <tr>\n",
       "      <th>area_mean</th>\n",
       "      <td>569.0</td>\n",
       "      <td>6.548891e+02</td>\n",
       "      <td>3.519141e+02</td>\n",
       "      <td>143.500000</td>\n",
       "      <td>420.300000</td>\n",
       "      <td>551.100000</td>\n",
       "      <td>7.827000e+02</td>\n",
       "      <td>2.501000e+03</td>\n",
       "    </tr>\n",
       "    <tr>\n",
       "      <th>smoothness_mean</th>\n",
       "      <td>569.0</td>\n",
       "      <td>9.636028e-02</td>\n",
       "      <td>1.406413e-02</td>\n",
       "      <td>0.052630</td>\n",
       "      <td>0.086370</td>\n",
       "      <td>0.095870</td>\n",
       "      <td>1.053000e-01</td>\n",
       "      <td>1.634000e-01</td>\n",
       "    </tr>\n",
       "    <tr>\n",
       "      <th>compactness_mean</th>\n",
       "      <td>569.0</td>\n",
       "      <td>1.043410e-01</td>\n",
       "      <td>5.281276e-02</td>\n",
       "      <td>0.019380</td>\n",
       "      <td>0.064920</td>\n",
       "      <td>0.092630</td>\n",
       "      <td>1.304000e-01</td>\n",
       "      <td>3.454000e-01</td>\n",
       "    </tr>\n",
       "    <tr>\n",
       "      <th>concavity_mean</th>\n",
       "      <td>569.0</td>\n",
       "      <td>8.879932e-02</td>\n",
       "      <td>7.971981e-02</td>\n",
       "      <td>0.000000</td>\n",
       "      <td>0.029560</td>\n",
       "      <td>0.061540</td>\n",
       "      <td>1.307000e-01</td>\n",
       "      <td>4.268000e-01</td>\n",
       "    </tr>\n",
       "    <tr>\n",
       "      <th>points_mean</th>\n",
       "      <td>569.0</td>\n",
       "      <td>4.891915e-02</td>\n",
       "      <td>3.880284e-02</td>\n",
       "      <td>0.000000</td>\n",
       "      <td>0.020310</td>\n",
       "      <td>0.033500</td>\n",
       "      <td>7.400000e-02</td>\n",
       "      <td>2.012000e-01</td>\n",
       "    </tr>\n",
       "    <tr>\n",
       "      <th>symmetry_mean</th>\n",
       "      <td>569.0</td>\n",
       "      <td>1.811619e-01</td>\n",
       "      <td>2.741428e-02</td>\n",
       "      <td>0.106000</td>\n",
       "      <td>0.161900</td>\n",
       "      <td>0.179200</td>\n",
       "      <td>1.957000e-01</td>\n",
       "      <td>3.040000e-01</td>\n",
       "    </tr>\n",
       "    <tr>\n",
       "      <th>dimension_mean</th>\n",
       "      <td>569.0</td>\n",
       "      <td>6.279761e-02</td>\n",
       "      <td>7.060363e-03</td>\n",
       "      <td>0.049960</td>\n",
       "      <td>0.057700</td>\n",
       "      <td>0.061540</td>\n",
       "      <td>6.612000e-02</td>\n",
       "      <td>9.744000e-02</td>\n",
       "    </tr>\n",
       "    <tr>\n",
       "      <th>radius_se</th>\n",
       "      <td>569.0</td>\n",
       "      <td>4.051721e-01</td>\n",
       "      <td>2.773127e-01</td>\n",
       "      <td>0.111500</td>\n",
       "      <td>0.232400</td>\n",
       "      <td>0.324200</td>\n",
       "      <td>4.789000e-01</td>\n",
       "      <td>2.873000e+00</td>\n",
       "    </tr>\n",
       "    <tr>\n",
       "      <th>texture_se</th>\n",
       "      <td>569.0</td>\n",
       "      <td>1.216853e+00</td>\n",
       "      <td>5.516484e-01</td>\n",
       "      <td>0.360200</td>\n",
       "      <td>0.833900</td>\n",
       "      <td>1.108000</td>\n",
       "      <td>1.474000e+00</td>\n",
       "      <td>4.885000e+00</td>\n",
       "    </tr>\n",
       "    <tr>\n",
       "      <th>perimeter_se</th>\n",
       "      <td>569.0</td>\n",
       "      <td>2.866059e+00</td>\n",
       "      <td>2.021855e+00</td>\n",
       "      <td>0.757000</td>\n",
       "      <td>1.606000</td>\n",
       "      <td>2.287000</td>\n",
       "      <td>3.357000e+00</td>\n",
       "      <td>2.198000e+01</td>\n",
       "    </tr>\n",
       "    <tr>\n",
       "      <th>area_se</th>\n",
       "      <td>569.0</td>\n",
       "      <td>4.033708e+01</td>\n",
       "      <td>4.549101e+01</td>\n",
       "      <td>6.802000</td>\n",
       "      <td>17.850000</td>\n",
       "      <td>24.530000</td>\n",
       "      <td>4.519000e+01</td>\n",
       "      <td>5.422000e+02</td>\n",
       "    </tr>\n",
       "    <tr>\n",
       "      <th>smoothness_se</th>\n",
       "      <td>569.0</td>\n",
       "      <td>7.040979e-03</td>\n",
       "      <td>3.002518e-03</td>\n",
       "      <td>0.001713</td>\n",
       "      <td>0.005169</td>\n",
       "      <td>0.006380</td>\n",
       "      <td>8.146000e-03</td>\n",
       "      <td>3.113000e-02</td>\n",
       "    </tr>\n",
       "    <tr>\n",
       "      <th>compactness_se</th>\n",
       "      <td>569.0</td>\n",
       "      <td>2.547814e-02</td>\n",
       "      <td>1.790818e-02</td>\n",
       "      <td>0.002252</td>\n",
       "      <td>0.013080</td>\n",
       "      <td>0.020450</td>\n",
       "      <td>3.245000e-02</td>\n",
       "      <td>1.354000e-01</td>\n",
       "    </tr>\n",
       "    <tr>\n",
       "      <th>concavity_se</th>\n",
       "      <td>569.0</td>\n",
       "      <td>3.189372e-02</td>\n",
       "      <td>3.018606e-02</td>\n",
       "      <td>0.000000</td>\n",
       "      <td>0.015090</td>\n",
       "      <td>0.025890</td>\n",
       "      <td>4.205000e-02</td>\n",
       "      <td>3.960000e-01</td>\n",
       "    </tr>\n",
       "    <tr>\n",
       "      <th>points_se</th>\n",
       "      <td>569.0</td>\n",
       "      <td>1.179614e-02</td>\n",
       "      <td>6.170285e-03</td>\n",
       "      <td>0.000000</td>\n",
       "      <td>0.007638</td>\n",
       "      <td>0.010930</td>\n",
       "      <td>1.471000e-02</td>\n",
       "      <td>5.279000e-02</td>\n",
       "    </tr>\n",
       "    <tr>\n",
       "      <th>symmetry_se</th>\n",
       "      <td>569.0</td>\n",
       "      <td>2.054230e-02</td>\n",
       "      <td>8.266372e-03</td>\n",
       "      <td>0.007882</td>\n",
       "      <td>0.015160</td>\n",
       "      <td>0.018730</td>\n",
       "      <td>2.348000e-02</td>\n",
       "      <td>7.895000e-02</td>\n",
       "    </tr>\n",
       "    <tr>\n",
       "      <th>dimension_se</th>\n",
       "      <td>569.0</td>\n",
       "      <td>3.794904e-03</td>\n",
       "      <td>2.646071e-03</td>\n",
       "      <td>0.000895</td>\n",
       "      <td>0.002248</td>\n",
       "      <td>0.003187</td>\n",
       "      <td>4.558000e-03</td>\n",
       "      <td>2.984000e-02</td>\n",
       "    </tr>\n",
       "    <tr>\n",
       "      <th>radius_worst</th>\n",
       "      <td>569.0</td>\n",
       "      <td>1.626919e+01</td>\n",
       "      <td>4.833242e+00</td>\n",
       "      <td>7.930000</td>\n",
       "      <td>13.010000</td>\n",
       "      <td>14.970000</td>\n",
       "      <td>1.879000e+01</td>\n",
       "      <td>3.604000e+01</td>\n",
       "    </tr>\n",
       "    <tr>\n",
       "      <th>texture_worst</th>\n",
       "      <td>569.0</td>\n",
       "      <td>2.567722e+01</td>\n",
       "      <td>6.146258e+00</td>\n",
       "      <td>12.020000</td>\n",
       "      <td>21.080000</td>\n",
       "      <td>25.410000</td>\n",
       "      <td>2.972000e+01</td>\n",
       "      <td>4.954000e+01</td>\n",
       "    </tr>\n",
       "    <tr>\n",
       "      <th>perimeter_worst</th>\n",
       "      <td>569.0</td>\n",
       "      <td>1.072612e+02</td>\n",
       "      <td>3.360254e+01</td>\n",
       "      <td>50.410000</td>\n",
       "      <td>84.110000</td>\n",
       "      <td>97.660000</td>\n",
       "      <td>1.254000e+02</td>\n",
       "      <td>2.512000e+02</td>\n",
       "    </tr>\n",
       "    <tr>\n",
       "      <th>area_worst</th>\n",
       "      <td>569.0</td>\n",
       "      <td>8.805831e+02</td>\n",
       "      <td>5.693570e+02</td>\n",
       "      <td>185.200000</td>\n",
       "      <td>515.300000</td>\n",
       "      <td>686.500000</td>\n",
       "      <td>1.084000e+03</td>\n",
       "      <td>4.254000e+03</td>\n",
       "    </tr>\n",
       "    <tr>\n",
       "      <th>smoothness_worst</th>\n",
       "      <td>569.0</td>\n",
       "      <td>1.323686e-01</td>\n",
       "      <td>2.283243e-02</td>\n",
       "      <td>0.071170</td>\n",
       "      <td>0.116600</td>\n",
       "      <td>0.131300</td>\n",
       "      <td>1.460000e-01</td>\n",
       "      <td>2.226000e-01</td>\n",
       "    </tr>\n",
       "    <tr>\n",
       "      <th>compactness_worst</th>\n",
       "      <td>569.0</td>\n",
       "      <td>2.542650e-01</td>\n",
       "      <td>1.573365e-01</td>\n",
       "      <td>0.027290</td>\n",
       "      <td>0.147200</td>\n",
       "      <td>0.211900</td>\n",
       "      <td>3.391000e-01</td>\n",
       "      <td>1.058000e+00</td>\n",
       "    </tr>\n",
       "    <tr>\n",
       "      <th>concavity_worst</th>\n",
       "      <td>569.0</td>\n",
       "      <td>2.721885e-01</td>\n",
       "      <td>2.086243e-01</td>\n",
       "      <td>0.000000</td>\n",
       "      <td>0.114500</td>\n",
       "      <td>0.226700</td>\n",
       "      <td>3.829000e-01</td>\n",
       "      <td>1.252000e+00</td>\n",
       "    </tr>\n",
       "    <tr>\n",
       "      <th>points_worst</th>\n",
       "      <td>569.0</td>\n",
       "      <td>1.146062e-01</td>\n",
       "      <td>6.573234e-02</td>\n",
       "      <td>0.000000</td>\n",
       "      <td>0.064930</td>\n",
       "      <td>0.099930</td>\n",
       "      <td>1.614000e-01</td>\n",
       "      <td>2.910000e-01</td>\n",
       "    </tr>\n",
       "    <tr>\n",
       "      <th>symmetry_worst</th>\n",
       "      <td>569.0</td>\n",
       "      <td>2.900756e-01</td>\n",
       "      <td>6.186747e-02</td>\n",
       "      <td>0.156500</td>\n",
       "      <td>0.250400</td>\n",
       "      <td>0.282200</td>\n",
       "      <td>3.179000e-01</td>\n",
       "      <td>6.638000e-01</td>\n",
       "    </tr>\n",
       "    <tr>\n",
       "      <th>dimension_worst</th>\n",
       "      <td>569.0</td>\n",
       "      <td>8.394582e-02</td>\n",
       "      <td>1.806127e-02</td>\n",
       "      <td>0.055040</td>\n",
       "      <td>0.071460</td>\n",
       "      <td>0.080040</td>\n",
       "      <td>9.208000e-02</td>\n",
       "      <td>2.075000e-01</td>\n",
       "    </tr>\n",
       "  </tbody>\n",
       "</table>\n",
       "</div>"
      ],
      "text/plain": [
       "                   count          mean           std          min  \\\n",
       "id                 569.0  3.037183e+07  1.250206e+08  8670.000000   \n",
       "radius_mean        569.0  1.412729e+01  3.524049e+00     6.981000   \n",
       "texture_mean       569.0  1.928965e+01  4.301036e+00     9.710000   \n",
       "perimeter_mean     569.0  9.196903e+01  2.429898e+01    43.790000   \n",
       "area_mean          569.0  6.548891e+02  3.519141e+02   143.500000   \n",
       "smoothness_mean    569.0  9.636028e-02  1.406413e-02     0.052630   \n",
       "compactness_mean   569.0  1.043410e-01  5.281276e-02     0.019380   \n",
       "concavity_mean     569.0  8.879932e-02  7.971981e-02     0.000000   \n",
       "points_mean        569.0  4.891915e-02  3.880284e-02     0.000000   \n",
       "symmetry_mean      569.0  1.811619e-01  2.741428e-02     0.106000   \n",
       "dimension_mean     569.0  6.279761e-02  7.060363e-03     0.049960   \n",
       "radius_se          569.0  4.051721e-01  2.773127e-01     0.111500   \n",
       "texture_se         569.0  1.216853e+00  5.516484e-01     0.360200   \n",
       "perimeter_se       569.0  2.866059e+00  2.021855e+00     0.757000   \n",
       "area_se            569.0  4.033708e+01  4.549101e+01     6.802000   \n",
       "smoothness_se      569.0  7.040979e-03  3.002518e-03     0.001713   \n",
       "compactness_se     569.0  2.547814e-02  1.790818e-02     0.002252   \n",
       "concavity_se       569.0  3.189372e-02  3.018606e-02     0.000000   \n",
       "points_se          569.0  1.179614e-02  6.170285e-03     0.000000   \n",
       "symmetry_se        569.0  2.054230e-02  8.266372e-03     0.007882   \n",
       "dimension_se       569.0  3.794904e-03  2.646071e-03     0.000895   \n",
       "radius_worst       569.0  1.626919e+01  4.833242e+00     7.930000   \n",
       "texture_worst      569.0  2.567722e+01  6.146258e+00    12.020000   \n",
       "perimeter_worst    569.0  1.072612e+02  3.360254e+01    50.410000   \n",
       "area_worst         569.0  8.805831e+02  5.693570e+02   185.200000   \n",
       "smoothness_worst   569.0  1.323686e-01  2.283243e-02     0.071170   \n",
       "compactness_worst  569.0  2.542650e-01  1.573365e-01     0.027290   \n",
       "concavity_worst    569.0  2.721885e-01  2.086243e-01     0.000000   \n",
       "points_worst       569.0  1.146062e-01  6.573234e-02     0.000000   \n",
       "symmetry_worst     569.0  2.900756e-01  6.186747e-02     0.156500   \n",
       "dimension_worst    569.0  8.394582e-02  1.806127e-02     0.055040   \n",
       "\n",
       "                             25%            50%           75%           max  \n",
       "id                 869218.000000  906024.000000  8.813129e+06  9.113205e+08  \n",
       "radius_mean            11.700000      13.370000  1.578000e+01  2.811000e+01  \n",
       "texture_mean           16.170000      18.840000  2.180000e+01  3.928000e+01  \n",
       "perimeter_mean         75.170000      86.240000  1.041000e+02  1.885000e+02  \n",
       "area_mean             420.300000     551.100000  7.827000e+02  2.501000e+03  \n",
       "smoothness_mean         0.086370       0.095870  1.053000e-01  1.634000e-01  \n",
       "compactness_mean        0.064920       0.092630  1.304000e-01  3.454000e-01  \n",
       "concavity_mean          0.029560       0.061540  1.307000e-01  4.268000e-01  \n",
       "points_mean             0.020310       0.033500  7.400000e-02  2.012000e-01  \n",
       "symmetry_mean           0.161900       0.179200  1.957000e-01  3.040000e-01  \n",
       "dimension_mean          0.057700       0.061540  6.612000e-02  9.744000e-02  \n",
       "radius_se               0.232400       0.324200  4.789000e-01  2.873000e+00  \n",
       "texture_se              0.833900       1.108000  1.474000e+00  4.885000e+00  \n",
       "perimeter_se            1.606000       2.287000  3.357000e+00  2.198000e+01  \n",
       "area_se                17.850000      24.530000  4.519000e+01  5.422000e+02  \n",
       "smoothness_se           0.005169       0.006380  8.146000e-03  3.113000e-02  \n",
       "compactness_se          0.013080       0.020450  3.245000e-02  1.354000e-01  \n",
       "concavity_se            0.015090       0.025890  4.205000e-02  3.960000e-01  \n",
       "points_se               0.007638       0.010930  1.471000e-02  5.279000e-02  \n",
       "symmetry_se             0.015160       0.018730  2.348000e-02  7.895000e-02  \n",
       "dimension_se            0.002248       0.003187  4.558000e-03  2.984000e-02  \n",
       "radius_worst           13.010000      14.970000  1.879000e+01  3.604000e+01  \n",
       "texture_worst          21.080000      25.410000  2.972000e+01  4.954000e+01  \n",
       "perimeter_worst        84.110000      97.660000  1.254000e+02  2.512000e+02  \n",
       "area_worst            515.300000     686.500000  1.084000e+03  4.254000e+03  \n",
       "smoothness_worst        0.116600       0.131300  1.460000e-01  2.226000e-01  \n",
       "compactness_worst       0.147200       0.211900  3.391000e-01  1.058000e+00  \n",
       "concavity_worst         0.114500       0.226700  3.829000e-01  1.252000e+00  \n",
       "points_worst            0.064930       0.099930  1.614000e-01  2.910000e-01  \n",
       "symmetry_worst          0.250400       0.282200  3.179000e-01  6.638000e-01  \n",
       "dimension_worst         0.071460       0.080040  9.208000e-02  2.075000e-01  "
      ]
     },
     "execution_count": 10,
     "metadata": {},
     "output_type": "execute_result"
    }
   ],
   "source": [
    "data.describe().T"
   ]
  },
  {
   "cell_type": "code",
   "execution_count": 11,
   "id": "4a2868c5",
   "metadata": {
    "ExecuteTime": {
     "end_time": "2022-10-10T19:46:44.710446Z",
     "start_time": "2022-10-10T19:46:43.711093Z"
    },
    "execution": {
     "iopub.execute_input": "2023-02-17T11:46:26.235487Z",
     "iopub.status.busy": "2023-02-17T11:46:26.234828Z",
     "iopub.status.idle": "2023-02-17T11:46:27.563202Z",
     "shell.execute_reply": "2023-02-17T11:46:27.561318Z"
    },
    "papermill": {
     "duration": 1.345036,
     "end_time": "2023-02-17T11:46:27.565524",
     "exception": false,
     "start_time": "2023-02-17T11:46:26.220488",
     "status": "completed"
    },
    "scrolled": true,
    "tags": []
   },
   "outputs": [
    {
     "data": {
      "text/plain": [
       "<AxesSubplot:xlabel='symmetry_mean', ylabel='Density'>"
      ]
     },
     "execution_count": 11,
     "metadata": {},
     "output_type": "execute_result"
    },
    {
     "data": {
      "image/png": "[encoded data removed]",
      "text/plain": [
       "<Figure size 640x480 with 8 Axes>"
      ]
     },
     "metadata": {},
     "output_type": "display_data"
    }
   ],
   "source": [
    "%matplotlib notebook\n",
    "%matplotlib inline\n",
    "plt.subplot(3,3,1)\n",
    "sns.distplot(data.radius_mean)\n",
    "\n",
    "plt.subplot(3,3,2)\n",
    "sns.distplot(data.texture_mean)\n",
    "\n",
    "plt.subplot(3,3,3)\n",
    "sns.distplot(data.perimeter_mean)\n",
    "\n",
    "plt.subplot(3,3,4)\n",
    "sns.distplot(data.area_mean)\n",
    "\n",
    "plt.subplot(3,3,5)\n",
    "sns.distplot(data.smoothness_mean)\n",
    "\n",
    "plt.subplot(3,3,6)\n",
    "sns.distplot(data.compactness_mean)\n",
    "\n",
    "plt.subplot(3,3,7)\n",
    "sns.distplot(data.concavity_mean)\n",
    "\n",
    "plt.subplot(3,3,8)\n",
    "sns.distplot(data.symmetry_mean)"
   ]
  },
  {
   "cell_type": "code",
   "execution_count": 12,
   "id": "5258543e",
   "metadata": {
    "ExecuteTime": {
     "end_time": "2022-10-10T19:46:44.718400Z",
     "start_time": "2022-10-10T19:46:44.711419Z"
    },
    "execution": {
     "iopub.execute_input": "2023-02-17T11:46:27.593090Z",
     "iopub.status.busy": "2023-02-17T11:46:27.592571Z",
     "iopub.status.idle": "2023-02-17T11:46:27.604994Z",
     "shell.execute_reply": "2023-02-17T11:46:27.603536Z"
    },
    "papermill": {
     "duration": 0.028751,
     "end_time": "2023-02-17T11:46:27.607149",
     "exception": false,
     "start_time": "2023-02-17T11:46:27.578398",
     "status": "completed"
    },
    "tags": []
   },
   "outputs": [
    {
     "data": {
      "text/plain": [
       "id                   6.473752\n",
       "area_se              5.447186\n",
       "concavity_se         5.110463\n",
       "dimension_se         3.923969\n",
       "perimeter_se         3.443615\n",
       "radius_se            3.088612\n",
       "smoothness_se        2.314450\n",
       "symmetry_se          2.195133\n",
       "compactness_se       1.902221\n",
       "area_worst           1.859373\n",
       "dimension_worst      1.662579\n",
       "texture_se           1.646444\n",
       "area_mean            1.645732\n",
       "compactness_worst    1.473555\n",
       "points_se            1.444678\n",
       "symmetry_worst       1.433928\n",
       "concavity_mean       1.401180\n",
       "dimension_mean       1.304489\n",
       "compactness_mean     1.190123\n",
       "points_mean          1.171180\n",
       "concavity_worst      1.150237\n",
       "perimeter_worst      1.128164\n",
       "radius_worst         1.103115\n",
       "perimeter_mean       0.990650\n",
       "radius_mean          0.942380\n",
       "symmetry_mean        0.725609\n",
       "texture_mean         0.650450\n",
       "texture_worst        0.498321\n",
       "points_worst         0.492616\n",
       "smoothness_mean      0.456324\n",
       "smoothness_worst     0.415426\n",
       "dtype: float64"
      ]
     },
     "execution_count": 12,
     "metadata": {},
     "output_type": "execute_result"
    }
   ],
   "source": [
    "data.skew().sort_values(ascending= False)"
   ]
  },
  {
   "cell_type": "code",
   "execution_count": 13,
   "id": "82643aad",
   "metadata": {
    "ExecuteTime": {
     "end_time": "2022-10-10T19:46:44.731365Z",
     "start_time": "2022-10-10T19:46:44.719398Z"
    },
    "execution": {
     "iopub.execute_input": "2023-02-17T11:46:27.634697Z",
     "iopub.status.busy": "2023-02-17T11:46:27.634256Z",
     "iopub.status.idle": "2023-02-17T11:46:27.642931Z",
     "shell.execute_reply": "2023-02-17T11:46:27.641086Z"
    },
    "papermill": {
     "duration": 0.026501,
     "end_time": "2023-02-17T11:46:27.646111",
     "exception": false,
     "start_time": "2023-02-17T11:46:27.619610",
     "status": "completed"
    },
    "tags": []
   },
   "outputs": [],
   "source": [
    "data.area_se = data.area_se.apply(lambda x: np.log(x))"
   ]
  },
  {
   "cell_type": "code",
   "execution_count": 14,
   "id": "821d2c09",
   "metadata": {
    "ExecuteTime": {
     "end_time": "2022-10-10T19:46:44.754306Z",
     "start_time": "2022-10-10T19:46:44.732362Z"
    },
    "execution": {
     "iopub.execute_input": "2023-02-17T11:46:27.673716Z",
     "iopub.status.busy": "2023-02-17T11:46:27.673255Z",
     "iopub.status.idle": "2023-02-17T11:46:27.700154Z",
     "shell.execute_reply": "2023-02-17T11:46:27.698923Z"
    },
    "papermill": {
     "duration": 0.043415,
     "end_time": "2023-02-17T11:46:27.702266",
     "exception": false,
     "start_time": "2023-02-17T11:46:27.658851",
     "status": "completed"
    },
    "tags": []
   },
   "outputs": [
    {
     "data": {
      "text/html": [
       "<div>\n",
       "<style scoped>\n",
       "    .dataframe tbody tr th:only-of-type {\n",
       "        vertical-align: middle;\n",
       "    }\n",
       "\n",
       "    .dataframe tbody tr th {\n",
       "        vertical-align: top;\n",
       "    }\n",
       "\n",
       "    .dataframe thead th {\n",
       "        text-align: right;\n",
       "    }\n",
       "</style>\n",
       "<table border=\"1\" class=\"dataframe\">\n",
       "  <thead>\n",
       "    <tr style=\"text-align: right;\">\n",
       "      <th></th>\n",
       "      <th>id</th>\n",
       "      <th>diagnosis</th>\n",
       "      <th>radius_mean</th>\n",
       "      <th>texture_mean</th>\n",
       "      <th>perimeter_mean</th>\n",
       "      <th>area_mean</th>\n",
       "      <th>smoothness_mean</th>\n",
       "      <th>compactness_mean</th>\n",
       "      <th>concavity_mean</th>\n",
       "      <th>points_mean</th>\n",
       "      <th>...</th>\n",
       "      <th>radius_worst</th>\n",
       "      <th>texture_worst</th>\n",
       "      <th>perimeter_worst</th>\n",
       "      <th>area_worst</th>\n",
       "      <th>smoothness_worst</th>\n",
       "      <th>compactness_worst</th>\n",
       "      <th>concavity_worst</th>\n",
       "      <th>points_worst</th>\n",
       "      <th>symmetry_worst</th>\n",
       "      <th>dimension_worst</th>\n",
       "    </tr>\n",
       "  </thead>\n",
       "  <tbody>\n",
       "    <tr>\n",
       "      <th>0</th>\n",
       "      <td>87139402</td>\n",
       "      <td>B</td>\n",
       "      <td>12.32</td>\n",
       "      <td>12.39</td>\n",
       "      <td>78.85</td>\n",
       "      <td>464.1</td>\n",
       "      <td>0.10280</td>\n",
       "      <td>0.06981</td>\n",
       "      <td>0.03987</td>\n",
       "      <td>0.03700</td>\n",
       "      <td>...</td>\n",
       "      <td>13.50</td>\n",
       "      <td>15.64</td>\n",
       "      <td>86.97</td>\n",
       "      <td>549.1</td>\n",
       "      <td>0.1385</td>\n",
       "      <td>0.1266</td>\n",
       "      <td>0.12420</td>\n",
       "      <td>0.09391</td>\n",
       "      <td>0.2827</td>\n",
       "      <td>0.06771</td>\n",
       "    </tr>\n",
       "    <tr>\n",
       "      <th>1</th>\n",
       "      <td>8910251</td>\n",
       "      <td>B</td>\n",
       "      <td>10.60</td>\n",
       "      <td>18.95</td>\n",
       "      <td>69.28</td>\n",
       "      <td>346.4</td>\n",
       "      <td>0.09688</td>\n",
       "      <td>0.11470</td>\n",
       "      <td>0.06387</td>\n",
       "      <td>0.02642</td>\n",
       "      <td>...</td>\n",
       "      <td>11.88</td>\n",
       "      <td>22.94</td>\n",
       "      <td>78.28</td>\n",
       "      <td>424.8</td>\n",
       "      <td>0.1213</td>\n",
       "      <td>0.2515</td>\n",
       "      <td>0.19160</td>\n",
       "      <td>0.07926</td>\n",
       "      <td>0.2940</td>\n",
       "      <td>0.07587</td>\n",
       "    </tr>\n",
       "    <tr>\n",
       "      <th>2</th>\n",
       "      <td>905520</td>\n",
       "      <td>B</td>\n",
       "      <td>11.04</td>\n",
       "      <td>16.83</td>\n",
       "      <td>70.92</td>\n",
       "      <td>373.2</td>\n",
       "      <td>0.10770</td>\n",
       "      <td>0.07804</td>\n",
       "      <td>0.03046</td>\n",
       "      <td>0.02480</td>\n",
       "      <td>...</td>\n",
       "      <td>12.41</td>\n",
       "      <td>26.44</td>\n",
       "      <td>79.93</td>\n",
       "      <td>471.4</td>\n",
       "      <td>0.1369</td>\n",
       "      <td>0.1482</td>\n",
       "      <td>0.10670</td>\n",
       "      <td>0.07431</td>\n",
       "      <td>0.2998</td>\n",
       "      <td>0.07881</td>\n",
       "    </tr>\n",
       "    <tr>\n",
       "      <th>3</th>\n",
       "      <td>868871</td>\n",
       "      <td>B</td>\n",
       "      <td>11.28</td>\n",
       "      <td>13.39</td>\n",
       "      <td>73.00</td>\n",
       "      <td>384.8</td>\n",
       "      <td>0.11640</td>\n",
       "      <td>0.11360</td>\n",
       "      <td>0.04635</td>\n",
       "      <td>0.04796</td>\n",
       "      <td>...</td>\n",
       "      <td>11.92</td>\n",
       "      <td>15.77</td>\n",
       "      <td>76.53</td>\n",
       "      <td>434.0</td>\n",
       "      <td>0.1367</td>\n",
       "      <td>0.1822</td>\n",
       "      <td>0.08669</td>\n",
       "      <td>0.08611</td>\n",
       "      <td>0.2102</td>\n",
       "      <td>0.06784</td>\n",
       "    </tr>\n",
       "    <tr>\n",
       "      <th>4</th>\n",
       "      <td>9012568</td>\n",
       "      <td>B</td>\n",
       "      <td>15.19</td>\n",
       "      <td>13.21</td>\n",
       "      <td>97.65</td>\n",
       "      <td>711.8</td>\n",
       "      <td>0.07963</td>\n",
       "      <td>0.06934</td>\n",
       "      <td>0.03393</td>\n",
       "      <td>0.02657</td>\n",
       "      <td>...</td>\n",
       "      <td>16.20</td>\n",
       "      <td>15.73</td>\n",
       "      <td>104.50</td>\n",
       "      <td>819.1</td>\n",
       "      <td>0.1126</td>\n",
       "      <td>0.1737</td>\n",
       "      <td>0.13620</td>\n",
       "      <td>0.08178</td>\n",
       "      <td>0.2487</td>\n",
       "      <td>0.06766</td>\n",
       "    </tr>\n",
       "  </tbody>\n",
       "</table>\n",
       "<p>5 rows × 32 columns</p>\n",
       "</div>"
      ],
      "text/plain": [
       "         id diagnosis  radius_mean  texture_mean  perimeter_mean  area_mean  \\\n",
       "0  87139402         B        12.32         12.39           78.85      464.1   \n",
       "1   8910251         B        10.60         18.95           69.28      346.4   \n",
       "2    905520         B        11.04         16.83           70.92      373.2   \n",
       "3    868871         B        11.28         13.39           73.00      384.8   \n",
       "4   9012568         B        15.19         13.21           97.65      711.8   \n",
       "\n",
       "   smoothness_mean  compactness_mean  concavity_mean  points_mean  ...  \\\n",
       "0          0.10280           0.06981         0.03987      0.03700  ...   \n",
       "1          0.09688           0.11470         0.06387      0.02642  ...   \n",
       "2          0.10770           0.07804         0.03046      0.02480  ...   \n",
       "3          0.11640           0.11360         0.04635      0.04796  ...   \n",
       "4          0.07963           0.06934         0.03393      0.02657  ...   \n",
       "\n",
       "   radius_worst  texture_worst  perimeter_worst  area_worst  smoothness_worst  \\\n",
       "0         13.50          15.64            86.97       549.1            0.1385   \n",
       "1         11.88          22.94            78.28       424.8            0.1213   \n",
       "2         12.41          26.44            79.93       471.4            0.1369   \n",
       "3         11.92          15.77            76.53       434.0            0.1367   \n",
       "4         16.20          15.73           104.50       819.1            0.1126   \n",
       "\n",
       "   compactness_worst  concavity_worst  points_worst  symmetry_worst  \\\n",
       "0             0.1266          0.12420       0.09391          0.2827   \n",
       "1             0.2515          0.19160       0.07926          0.2940   \n",
       "2             0.1482          0.10670       0.07431          0.2998   \n",
       "3             0.1822          0.08669       0.08611          0.2102   \n",
       "4             0.1737          0.13620       0.08178          0.2487   \n",
       "\n",
       "   dimension_worst  \n",
       "0          0.06771  \n",
       "1          0.07587  \n",
       "2          0.07881  \n",
       "3          0.06784  \n",
       "4          0.06766  \n",
       "\n",
       "[5 rows x 32 columns]"
      ]
     },
     "execution_count": 14,
     "metadata": {},
     "output_type": "execute_result"
    }
   ],
   "source": [
    "data.head(5)"
   ]
  },
  {
   "cell_type": "code",
   "execution_count": 15,
   "id": "22d58b13",
   "metadata": {
    "ExecuteTime": {
     "end_time": "2022-10-10T19:46:44.764290Z",
     "start_time": "2022-10-10T19:46:44.755310Z"
    },
    "execution": {
     "iopub.execute_input": "2023-02-17T11:46:27.730576Z",
     "iopub.status.busy": "2023-02-17T11:46:27.730092Z",
     "iopub.status.idle": "2023-02-17T11:46:27.737644Z",
     "shell.execute_reply": "2023-02-17T11:46:27.736718Z"
    },
    "papermill": {
     "duration": 0.025045,
     "end_time": "2023-02-17T11:46:27.740265",
     "exception": false,
     "start_time": "2023-02-17T11:46:27.715220",
     "status": "completed"
    },
    "tags": []
   },
   "outputs": [],
   "source": [
    "data.replace({'diagnosis':{'M':1, 'B':0}}, inplace= True)"
   ]
  },
  {
   "cell_type": "code",
   "execution_count": 16,
   "id": "82dd728c",
   "metadata": {
    "ExecuteTime": {
     "end_time": "2022-10-10T19:46:44.783244Z",
     "start_time": "2022-10-10T19:46:44.765287Z"
    },
    "execution": {
     "iopub.execute_input": "2023-02-17T11:46:27.767947Z",
     "iopub.status.busy": "2023-02-17T11:46:27.767538Z",
     "iopub.status.idle": "2023-02-17T11:46:27.773377Z",
     "shell.execute_reply": "2023-02-17T11:46:27.772377Z"
    },
    "papermill": {
     "duration": 0.022149,
     "end_time": "2023-02-17T11:46:27.775302",
     "exception": false,
     "start_time": "2023-02-17T11:46:27.753153",
     "status": "completed"
    },
    "tags": []
   },
   "outputs": [],
   "source": [
    "X = data.drop(['diagnosis', 'id'], axis=1)\n",
    "y = data.diagnosis"
   ]
  },
  {
   "cell_type": "code",
   "execution_count": 17,
   "id": "26609ab9",
   "metadata": {
    "ExecuteTime": {
     "end_time": "2022-10-10T19:46:44.869051Z",
     "start_time": "2022-10-10T19:46:44.784241Z"
    },
    "execution": {
     "iopub.execute_input": "2023-02-17T11:46:27.828443Z",
     "iopub.status.busy": "2023-02-17T11:46:27.828044Z",
     "iopub.status.idle": "2023-02-17T11:46:28.087703Z",
     "shell.execute_reply": "2023-02-17T11:46:28.086475Z"
    },
    "papermill": {
     "duration": 0.277116,
     "end_time": "2023-02-17T11:46:28.090640",
     "exception": false,
     "start_time": "2023-02-17T11:46:27.813524",
     "status": "completed"
    },
    "tags": []
   },
   "outputs": [],
   "source": [
    "from sklearn.model_selection import train_test_split"
   ]
  },
  {
   "cell_type": "code",
   "execution_count": 18,
   "id": "873082cf",
   "metadata": {
    "ExecuteTime": {
     "end_time": "2022-10-10T19:47:00.381630Z",
     "start_time": "2022-10-10T19:47:00.376643Z"
    },
    "execution": {
     "iopub.execute_input": "2023-02-17T11:46:28.118728Z",
     "iopub.status.busy": "2023-02-17T11:46:28.118191Z",
     "iopub.status.idle": "2023-02-17T11:46:28.127503Z",
     "shell.execute_reply": "2023-02-17T11:46:28.125687Z"
    },
    "papermill": {
     "duration": 0.025746,
     "end_time": "2023-02-17T11:46:28.129522",
     "exception": false,
     "start_time": "2023-02-17T11:46:28.103776",
     "status": "completed"
    },
    "tags": []
   },
   "outputs": [],
   "source": [
    "X_train, X_test, y_train, y_test = train_test_split(X, y, test_size=0.2, random_state=0)"
   ]
  },
  {
   "cell_type": "markdown",
   "id": "39aa1656",
   "metadata": {
    "papermill": {
     "duration": 0.012961,
     "end_time": "2023-02-17T11:46:28.939529",
     "exception": false,
     "start_time": "2023-02-17T11:46:28.926568",
     "status": "completed"
    },
    "tags": []
   },
   "source": [
    "# "
   ]
  },
  {
   "cell_type": "markdown",
   "id": "4837e1f3",
   "metadata": {
    "papermill": {
     "duration": 0.013013,
     "end_time": "2023-02-17T11:46:28.965711",
     "exception": false,
     "start_time": "2023-02-17T11:46:28.952698",
     "status": "completed"
    },
    "tags": []
   },
   "source": [
    "# Random forest Algorithms"
   ]
  },
  {
   "cell_type": "code",
   "execution_count": 19,
   "id": "60669649",
   "metadata": {
    "ExecuteTime": {
     "end_time": "2022-10-10T19:46:45.079450Z",
     "start_time": "2022-10-10T19:46:45.066485Z"
    },
    "execution": {
     "iopub.execute_input": "2023-02-17T11:46:28.994932Z",
     "iopub.status.busy": "2023-02-17T11:46:28.994422Z",
     "iopub.status.idle": "2023-02-17T11:46:29.085242Z",
     "shell.execute_reply": "2023-02-17T11:46:29.083514Z"
    },
    "papermill": {
     "duration": 0.108839,
     "end_time": "2023-02-17T11:46:29.088346",
     "exception": false,
     "start_time": "2023-02-17T11:46:28.979507",
     "status": "completed"
    },
    "tags": []
   },
   "outputs": [],
   "source": [
    "from sklearn.ensemble import RandomForestClassifier"
   ]
  },
  {
   "cell_type": "code",
   "execution_count": 20,
   "id": "808159c2",
   "metadata": {
    "ExecuteTime": {
     "end_time": "2022-10-10T19:46:45.083440Z",
     "start_time": "2022-10-10T19:46:45.080447Z"
    },
    "execution": {
     "iopub.execute_input": "2023-02-17T11:46:29.119035Z",
     "iopub.status.busy": "2023-02-17T11:46:29.117931Z",
     "iopub.status.idle": "2023-02-17T11:46:29.124161Z",
     "shell.execute_reply": "2023-02-17T11:46:29.122599Z"
    },
    "papermill": {
     "duration": 0.024438,
     "end_time": "2023-02-17T11:46:29.126744",
     "exception": false,
     "start_time": "2023-02-17T11:46:29.102306",
     "status": "completed"
    },
    "tags": []
   },
   "outputs": [],
   "source": [
    "re = RandomForestClassifier()"
   ]
  },
  {
   "cell_type": "code",
   "execution_count": 21,
   "id": "582763cd",
   "metadata": {
    "ExecuteTime": {
     "end_time": "2022-10-10T19:56:12.352364Z",
     "start_time": "2022-10-10T19:56:12.347377Z"
    },
    "execution": {
     "iopub.execute_input": "2023-02-17T11:46:29.156377Z",
     "iopub.status.busy": "2023-02-17T11:46:29.155771Z",
     "iopub.status.idle": "2023-02-17T11:46:29.163229Z",
     "shell.execute_reply": "2023-02-17T11:46:29.162365Z"
    },
    "papermill": {
     "duration": 0.025723,
     "end_time": "2023-02-17T11:46:29.166175",
     "exception": false,
     "start_time": "2023-02-17T11:46:29.140452",
     "status": "completed"
    },
    "tags": []
   },
   "outputs": [],
   "source": [
    "X_train, X_test, y_train, y_test = train_test_split(X, y, test_size=0.2, random_state=26)"
   ]
  },
  {
   "cell_type": "code",
   "execution_count": 22,
   "id": "b7904e75",
   "metadata": {
    "ExecuteTime": {
     "end_time": "2022-10-10T19:56:12.900666Z",
     "start_time": "2022-10-10T19:56:12.757049Z"
    },
    "execution": {
     "iopub.execute_input": "2023-02-17T11:46:29.197524Z",
     "iopub.status.busy": "2023-02-17T11:46:29.196691Z",
     "iopub.status.idle": "2023-02-17T11:46:29.379054Z",
     "shell.execute_reply": "2023-02-17T11:46:29.377350Z"
    },
    "papermill": {
     "duration": 0.20085,
     "end_time": "2023-02-17T11:46:29.381422",
     "exception": false,
     "start_time": "2023-02-17T11:46:29.180572",
     "status": "completed"
    },
    "tags": []
   },
   "outputs": [
    {
     "data": {
      "text/plain": [
       "RandomForestClassifier()"
      ]
     },
     "execution_count": 22,
     "metadata": {},
     "output_type": "execute_result"
    }
   ],
   "source": [
    "re.fit(X_train, y_train)"
   ]
  },
  {
   "cell_type": "code",
   "execution_count": 23,
   "id": "92904903",
   "metadata": {
    "ExecuteTime": {
     "end_time": "2022-10-10T19:56:13.136981Z",
     "start_time": "2022-10-10T19:56:13.115190Z"
    },
    "execution": {
     "iopub.execute_input": "2023-02-17T11:46:29.410182Z",
     "iopub.status.busy": "2023-02-17T11:46:29.409597Z",
     "iopub.status.idle": "2023-02-17T11:46:29.436616Z",
     "shell.execute_reply": "2023-02-17T11:46:29.435912Z"
    },
    "papermill": {
     "duration": 0.04404,
     "end_time": "2023-02-17T11:46:29.438941",
     "exception": false,
     "start_time": "2023-02-17T11:46:29.394901",
     "status": "completed"
    },
    "tags": []
   },
   "outputs": [
    {
     "data": {
      "text/plain": [
       "1.0"
      ]
     },
     "execution_count": 23,
     "metadata": {},
     "output_type": "execute_result"
    }
   ],
   "source": [
    "re.score(X_train, y_train)"
   ]
  },
  {
   "cell_type": "code",
   "execution_count": 24,
   "id": "4134a986",
   "metadata": {
    "ExecuteTime": {
     "end_time": "2022-10-10T19:56:13.597251Z",
     "start_time": "2022-10-10T19:56:13.583262Z"
    },
    "execution": {
     "iopub.execute_input": "2023-02-17T11:46:29.467896Z",
     "iopub.status.busy": "2023-02-17T11:46:29.466635Z",
     "iopub.status.idle": "2023-02-17T11:46:29.488579Z",
     "shell.execute_reply": "2023-02-17T11:46:29.487597Z"
    },
    "papermill": {
     "duration": 0.040089,
     "end_time": "2023-02-17T11:46:29.492019",
     "exception": false,
     "start_time": "2023-02-17T11:46:29.451930",
     "status": "completed"
    },
    "tags": []
   },
   "outputs": [
    {
     "data": {
      "text/plain": [
       "0.9473684210526315"
      ]
     },
     "execution_count": 24,
     "metadata": {},
     "output_type": "execute_result"
    }
   ],
   "source": [
    "re.score(X_test, y_test)"
   ]
  },
  {
   "cell_type": "code",
   "execution_count": 25,
   "id": "bd05408c",
   "metadata": {
    "ExecuteTime": {
     "end_time": "2022-10-10T19:55:55.198497Z",
     "start_time": "2022-10-10T19:55:54.923234Z"
    },
    "execution": {
     "iopub.execute_input": "2023-02-17T11:46:29.522262Z",
     "iopub.status.busy": "2023-02-17T11:46:29.521065Z",
     "iopub.status.idle": "2023-02-17T11:46:29.924572Z",
     "shell.execute_reply": "2023-02-17T11:46:29.923519Z"
    },
    "papermill": {
     "duration": 0.421234,
     "end_time": "2023-02-17T11:46:29.927012",
     "exception": false,
     "start_time": "2023-02-17T11:46:29.505778",
     "status": "completed"
    },
    "scrolled": true,
    "tags": []
   },
   "outputs": [
    {
     "data": {
      "text/plain": [
       "Text(0.5, 23.52222222222222, 'Predicted label')"
      ]
     },
     "execution_count": 25,
     "metadata": {},
     "output_type": "execute_result"
    },
    {
     "data": {
      "image/png": "[encoded data removed]",
      "text/plain": [
       "<Figure size 640x480 with 2 Axes>"
      ]
     },
     "metadata": {},
     "output_type": "display_data"
    }
   ],
   "source": [
    "from sklearn.metrics import  plot_confusion_matrix\n",
    "clf = RandomForestClassifier()\n",
    "clf.fit(X_train,y_train)\n",
    "disp = plot_confusion_matrix(clf,X_test,y_test,cmap=\"Blues\",values_format='.3g')\n",
    "plt.tight_layout()\n",
    "plt.ylabel('True label')\n",
    "plt.xlabel('Predicted label')"
   ]
  },
  {
   "cell_type": "markdown",
   "id": "4e10e302",
   "metadata": {
    "papermill": {
     "duration": 0.013389,
     "end_time": "2023-02-17T11:46:29.954239",
     "exception": false,
     "start_time": "2023-02-17T11:46:29.940850",
     "status": "completed"
    },
    "tags": []
   },
   "source": [
    "# "
   ]
  }
 ],
 "metadata": {
  "kernelspec": {
   "display_name": "Python 3 (ipykernel)",
   "language": "python",
   "name": "python3"
  },
  "language_info": {
   "codemirror_mode": {
    "name": "ipython",
    "version": 3
   },
   "file_extension": ".py",
   "mimetype": "text/x-python",
   "name": "python",
   "nbconvert_exporter": "python",
   "pygments_lexer": "ipython3",
   "version": "3.9.13"
  },
  "papermill": {
   "default_parameters": {},
   "duration": 17.027206,
   "end_time": "2023-02-17T11:46:31.197160",
   "environment_variables": {},
   "exception": null,
   "input_path": "__notebook__.ipynb",
   "output_path": "__notebook__.ipynb",
   "parameters": {},
   "start_time": "2023-02-17T11:46:14.169954",
   "version": "2.3.4"
  }
 },
 "nbformat": 4,
 "nbformat_minor": 5
}
